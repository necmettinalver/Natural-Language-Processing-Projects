{
 "cells": [
  {
   "cell_type": "code",
   "execution_count": 1,
   "metadata": {},
   "outputs": [],
   "source": [
    "import numpy as np\n",
    "import pandas as pd\n",
    "import seaborn as sns\n",
    "import matplotlib.pyplot as plt\n",
    "\n",
    "import gensim\n",
    "\n",
    "from sklearn.model_selection import train_test_split \n",
    "from sklearn.feature_extraction.text import CountVectorizer\n",
    "from sklearn.model_selection import train_test_split\n",
    "from sklearn.linear_model import LogisticRegression\n",
    "from sklearn.metrics import accuracy_score"
   ]
  },
  {
   "cell_type": "code",
   "execution_count": 2,
   "metadata": {},
   "outputs": [
    {
     "data": {
      "text/html": [
       "<div>\n",
       "<style scoped>\n",
       "    .dataframe tbody tr th:only-of-type {\n",
       "        vertical-align: middle;\n",
       "    }\n",
       "\n",
       "    .dataframe tbody tr th {\n",
       "        vertical-align: top;\n",
       "    }\n",
       "\n",
       "    .dataframe thead th {\n",
       "        text-align: right;\n",
       "    }\n",
       "</style>\n",
       "<table border=\"1\" class=\"dataframe\">\n",
       "  <thead>\n",
       "    <tr style=\"text-align: right;\">\n",
       "      <th></th>\n",
       "      <th>text</th>\n",
       "      <th>label</th>\n",
       "    </tr>\n",
       "  </thead>\n",
       "  <tbody>\n",
       "    <tr>\n",
       "      <th>0</th>\n",
       "      <td>I grew up (b. 1965) watching and loving the Th...</td>\n",
       "      <td>0</td>\n",
       "    </tr>\n",
       "    <tr>\n",
       "      <th>1</th>\n",
       "      <td>When I put this movie in my DVD player, and sa...</td>\n",
       "      <td>0</td>\n",
       "    </tr>\n",
       "    <tr>\n",
       "      <th>2</th>\n",
       "      <td>Why do people who do not know what a particula...</td>\n",
       "      <td>0</td>\n",
       "    </tr>\n",
       "    <tr>\n",
       "      <th>3</th>\n",
       "      <td>Even though I have great interest in Biblical ...</td>\n",
       "      <td>0</td>\n",
       "    </tr>\n",
       "    <tr>\n",
       "      <th>4</th>\n",
       "      <td>Im a die hard Dads Army fan and nothing will e...</td>\n",
       "      <td>1</td>\n",
       "    </tr>\n",
       "  </tbody>\n",
       "</table>\n",
       "</div>"
      ],
      "text/plain": [
       "                                                text  label\n",
       "0  I grew up (b. 1965) watching and loving the Th...      0\n",
       "1  When I put this movie in my DVD player, and sa...      0\n",
       "2  Why do people who do not know what a particula...      0\n",
       "3  Even though I have great interest in Biblical ...      0\n",
       "4  Im a die hard Dads Army fan and nothing will e...      1"
      ]
     },
     "execution_count": 2,
     "metadata": {},
     "output_type": "execute_result"
    }
   ],
   "source": [
    "train_data = pd.read_csv(\"Train.csv\")\n",
    "train_data.head()\n"
   ]
  },
  {
   "cell_type": "code",
   "execution_count": 3,
   "metadata": {},
   "outputs": [
    {
     "data": {
      "text/html": [
       "<div>\n",
       "<style scoped>\n",
       "    .dataframe tbody tr th:only-of-type {\n",
       "        vertical-align: middle;\n",
       "    }\n",
       "\n",
       "    .dataframe tbody tr th {\n",
       "        vertical-align: top;\n",
       "    }\n",
       "\n",
       "    .dataframe thead th {\n",
       "        text-align: right;\n",
       "    }\n",
       "</style>\n",
       "<table border=\"1\" class=\"dataframe\">\n",
       "  <thead>\n",
       "    <tr style=\"text-align: right;\">\n",
       "      <th></th>\n",
       "      <th>text</th>\n",
       "      <th>label</th>\n",
       "    </tr>\n",
       "  </thead>\n",
       "  <tbody>\n",
       "    <tr>\n",
       "      <th>0</th>\n",
       "      <td>I always wrote this series off as being a comp...</td>\n",
       "      <td>0</td>\n",
       "    </tr>\n",
       "    <tr>\n",
       "      <th>1</th>\n",
       "      <td>1st watched 12/7/2002 - 3 out of 10(Dir-Steve ...</td>\n",
       "      <td>0</td>\n",
       "    </tr>\n",
       "    <tr>\n",
       "      <th>2</th>\n",
       "      <td>This movie was so poorly written and directed ...</td>\n",
       "      <td>0</td>\n",
       "    </tr>\n",
       "    <tr>\n",
       "      <th>3</th>\n",
       "      <td>The most interesting thing about Miryang (Secr...</td>\n",
       "      <td>1</td>\n",
       "    </tr>\n",
       "    <tr>\n",
       "      <th>4</th>\n",
       "      <td>when i first read about \"berlin am meer\" i did...</td>\n",
       "      <td>0</td>\n",
       "    </tr>\n",
       "  </tbody>\n",
       "</table>\n",
       "</div>"
      ],
      "text/plain": [
       "                                                text  label\n",
       "0  I always wrote this series off as being a comp...      0\n",
       "1  1st watched 12/7/2002 - 3 out of 10(Dir-Steve ...      0\n",
       "2  This movie was so poorly written and directed ...      0\n",
       "3  The most interesting thing about Miryang (Secr...      1\n",
       "4  when i first read about \"berlin am meer\" i did...      0"
      ]
     },
     "execution_count": 3,
     "metadata": {},
     "output_type": "execute_result"
    }
   ],
   "source": [
    "test_data = pd.read_csv(\"Test.csv\")\n",
    "test_data.head()\n"
   ]
  },
  {
   "cell_type": "code",
   "execution_count": 4,
   "metadata": {},
   "outputs": [
    {
     "data": {
      "text/html": [
       "<div>\n",
       "<style scoped>\n",
       "    .dataframe tbody tr th:only-of-type {\n",
       "        vertical-align: middle;\n",
       "    }\n",
       "\n",
       "    .dataframe tbody tr th {\n",
       "        vertical-align: top;\n",
       "    }\n",
       "\n",
       "    .dataframe thead th {\n",
       "        text-align: right;\n",
       "    }\n",
       "</style>\n",
       "<table border=\"1\" class=\"dataframe\">\n",
       "  <thead>\n",
       "    <tr style=\"text-align: right;\">\n",
       "      <th></th>\n",
       "      <th>text</th>\n",
       "      <th>label</th>\n",
       "    </tr>\n",
       "  </thead>\n",
       "  <tbody>\n",
       "    <tr>\n",
       "      <th>0</th>\n",
       "      <td>It's been about 14 years since Sharon Stone aw...</td>\n",
       "      <td>0</td>\n",
       "    </tr>\n",
       "    <tr>\n",
       "      <th>1</th>\n",
       "      <td>someone needed to make a car payment... this i...</td>\n",
       "      <td>0</td>\n",
       "    </tr>\n",
       "    <tr>\n",
       "      <th>2</th>\n",
       "      <td>The Guidelines state that a comment must conta...</td>\n",
       "      <td>0</td>\n",
       "    </tr>\n",
       "    <tr>\n",
       "      <th>3</th>\n",
       "      <td>This movie is a muddled mish-mash of clichés f...</td>\n",
       "      <td>0</td>\n",
       "    </tr>\n",
       "    <tr>\n",
       "      <th>4</th>\n",
       "      <td>Before Stan Laurel became the smaller half of ...</td>\n",
       "      <td>0</td>\n",
       "    </tr>\n",
       "  </tbody>\n",
       "</table>\n",
       "</div>"
      ],
      "text/plain": [
       "                                                text  label\n",
       "0  It's been about 14 years since Sharon Stone aw...      0\n",
       "1  someone needed to make a car payment... this i...      0\n",
       "2  The Guidelines state that a comment must conta...      0\n",
       "3  This movie is a muddled mish-mash of clichés f...      0\n",
       "4  Before Stan Laurel became the smaller half of ...      0"
      ]
     },
     "execution_count": 4,
     "metadata": {},
     "output_type": "execute_result"
    }
   ],
   "source": [
    "valid_data = pd.read_csv(\"Valid.csv\")\n",
    "valid_data.head()\n"
   ]
  },
  {
   "cell_type": "code",
   "execution_count": 5,
   "metadata": {},
   "outputs": [
    {
     "data": {
      "text/plain": [
       "((40000, 2), (5000, 2), (5000, 2))"
      ]
     },
     "execution_count": 5,
     "metadata": {},
     "output_type": "execute_result"
    }
   ],
   "source": [
    "train_data.shape, test_data.shape, valid_data.shape"
   ]
  },
  {
   "cell_type": "code",
   "execution_count": 6,
   "metadata": {},
   "outputs": [],
   "source": [
    "df=pd.concat([train_data,test_data,valid_data],axis=0,ignore_index=True)"
   ]
  },
  {
   "cell_type": "code",
   "execution_count": 7,
   "metadata": {},
   "outputs": [
    {
     "data": {
      "text/plain": [
       "(50000, 2)"
      ]
     },
     "execution_count": 7,
     "metadata": {},
     "output_type": "execute_result"
    }
   ],
   "source": [
    "df.shape"
   ]
  },
  {
   "cell_type": "code",
   "execution_count": 8,
   "metadata": {},
   "outputs": [
    {
     "data": {
      "text/html": [
       "<div>\n",
       "<style scoped>\n",
       "    .dataframe tbody tr th:only-of-type {\n",
       "        vertical-align: middle;\n",
       "    }\n",
       "\n",
       "    .dataframe tbody tr th {\n",
       "        vertical-align: top;\n",
       "    }\n",
       "\n",
       "    .dataframe thead th {\n",
       "        text-align: right;\n",
       "    }\n",
       "</style>\n",
       "<table border=\"1\" class=\"dataframe\">\n",
       "  <thead>\n",
       "    <tr style=\"text-align: right;\">\n",
       "      <th></th>\n",
       "      <th>text</th>\n",
       "      <th>label</th>\n",
       "    </tr>\n",
       "  </thead>\n",
       "  <tbody>\n",
       "    <tr>\n",
       "      <th>0</th>\n",
       "      <td>I grew up (b. 1965) watching and loving the Th...</td>\n",
       "      <td>0</td>\n",
       "    </tr>\n",
       "    <tr>\n",
       "      <th>1</th>\n",
       "      <td>When I put this movie in my DVD player, and sa...</td>\n",
       "      <td>0</td>\n",
       "    </tr>\n",
       "    <tr>\n",
       "      <th>2</th>\n",
       "      <td>Why do people who do not know what a particula...</td>\n",
       "      <td>0</td>\n",
       "    </tr>\n",
       "    <tr>\n",
       "      <th>3</th>\n",
       "      <td>Even though I have great interest in Biblical ...</td>\n",
       "      <td>0</td>\n",
       "    </tr>\n",
       "    <tr>\n",
       "      <th>4</th>\n",
       "      <td>Im a die hard Dads Army fan and nothing will e...</td>\n",
       "      <td>1</td>\n",
       "    </tr>\n",
       "    <tr>\n",
       "      <th>5</th>\n",
       "      <td>A terrible movie as everyone has said. What ma...</td>\n",
       "      <td>0</td>\n",
       "    </tr>\n",
       "    <tr>\n",
       "      <th>6</th>\n",
       "      <td>Finally watched this shocking movie last night...</td>\n",
       "      <td>1</td>\n",
       "    </tr>\n",
       "    <tr>\n",
       "      <th>7</th>\n",
       "      <td>I caught this film on AZN on cable. It sounded...</td>\n",
       "      <td>0</td>\n",
       "    </tr>\n",
       "    <tr>\n",
       "      <th>8</th>\n",
       "      <td>It may be the remake of 1987 Autumn's Tale aft...</td>\n",
       "      <td>1</td>\n",
       "    </tr>\n",
       "    <tr>\n",
       "      <th>9</th>\n",
       "      <td>My Super Ex Girlfriend turned out to be a plea...</td>\n",
       "      <td>1</td>\n",
       "    </tr>\n",
       "    <tr>\n",
       "      <th>10</th>\n",
       "      <td>I can't believe people are looking for a plot ...</td>\n",
       "      <td>1</td>\n",
       "    </tr>\n",
       "    <tr>\n",
       "      <th>11</th>\n",
       "      <td>If you haven't seen the gong show TV series th...</td>\n",
       "      <td>0</td>\n",
       "    </tr>\n",
       "    <tr>\n",
       "      <th>12</th>\n",
       "      <td>I have always been a huge fan of \"Homicide: Li...</td>\n",
       "      <td>1</td>\n",
       "    </tr>\n",
       "    <tr>\n",
       "      <th>13</th>\n",
       "      <td>Greg Davis and Bryan Daly take some crazed sta...</td>\n",
       "      <td>0</td>\n",
       "    </tr>\n",
       "    <tr>\n",
       "      <th>14</th>\n",
       "      <td>A half-hearted attempt to bring Elvis Presley ...</td>\n",
       "      <td>0</td>\n",
       "    </tr>\n",
       "    <tr>\n",
       "      <th>15</th>\n",
       "      <td>If you want a fun romp with loads of subtle hu...</td>\n",
       "      <td>1</td>\n",
       "    </tr>\n",
       "    <tr>\n",
       "      <th>16</th>\n",
       "      <td>I really wanted to be able to give this film a...</td>\n",
       "      <td>1</td>\n",
       "    </tr>\n",
       "    <tr>\n",
       "      <th>17</th>\n",
       "      <td>The main problem with \"Power\" is that it featu...</td>\n",
       "      <td>0</td>\n",
       "    </tr>\n",
       "    <tr>\n",
       "      <th>18</th>\n",
       "      <td>The folks at Disney have a lot to explain. Fir...</td>\n",
       "      <td>0</td>\n",
       "    </tr>\n",
       "    <tr>\n",
       "      <th>19</th>\n",
       "      <td>A friend told me of John Fante last summer aft...</td>\n",
       "      <td>0</td>\n",
       "    </tr>\n",
       "  </tbody>\n",
       "</table>\n",
       "</div>"
      ],
      "text/plain": [
       "                                                 text  label\n",
       "0   I grew up (b. 1965) watching and loving the Th...      0\n",
       "1   When I put this movie in my DVD player, and sa...      0\n",
       "2   Why do people who do not know what a particula...      0\n",
       "3   Even though I have great interest in Biblical ...      0\n",
       "4   Im a die hard Dads Army fan and nothing will e...      1\n",
       "5   A terrible movie as everyone has said. What ma...      0\n",
       "6   Finally watched this shocking movie last night...      1\n",
       "7   I caught this film on AZN on cable. It sounded...      0\n",
       "8   It may be the remake of 1987 Autumn's Tale aft...      1\n",
       "9   My Super Ex Girlfriend turned out to be a plea...      1\n",
       "10  I can't believe people are looking for a plot ...      1\n",
       "11  If you haven't seen the gong show TV series th...      0\n",
       "12  I have always been a huge fan of \"Homicide: Li...      1\n",
       "13  Greg Davis and Bryan Daly take some crazed sta...      0\n",
       "14  A half-hearted attempt to bring Elvis Presley ...      0\n",
       "15  If you want a fun romp with loads of subtle hu...      1\n",
       "16  I really wanted to be able to give this film a...      1\n",
       "17  The main problem with \"Power\" is that it featu...      0\n",
       "18  The folks at Disney have a lot to explain. Fir...      0\n",
       "19  A friend told me of John Fante last summer aft...      0"
      ]
     },
     "execution_count": 8,
     "metadata": {},
     "output_type": "execute_result"
    }
   ],
   "source": [
    "df.head(20)"
   ]
  },
  {
   "cell_type": "code",
   "execution_count": 9,
   "metadata": {},
   "outputs": [
    {
     "data": {
      "text/plain": [
       "0    25000\n",
       "1    25000\n",
       "Name: label, dtype: int64"
      ]
     },
     "execution_count": 9,
     "metadata": {},
     "output_type": "execute_result"
    }
   ],
   "source": [
    "df.label.value_counts()"
   ]
  },
  {
   "cell_type": "code",
   "execution_count": 11,
   "metadata": {},
   "outputs": [
    {
     "data": {
      "image/png": "[encoded data removed]",
      "text/plain": [
       "<Figure size 432x288 with 1 Axes>"
      ]
     },
     "metadata": {
      "needs_background": "light"
     },
     "output_type": "display_data"
    }
   ],
   "source": [
    "sns.countplot(x=\"label\",data=df)\n",
    "plt.show()"
   ]
  },
  {
   "cell_type": "code",
   "execution_count": 12,
   "metadata": {},
   "outputs": [
    {
     "data": {
      "text/plain": [
       "text     0\n",
       "label    0\n",
       "dtype: int64"
      ]
     },
     "execution_count": 12,
     "metadata": {},
     "output_type": "execute_result"
    }
   ],
   "source": [
    "df.isnull().sum()"
   ]
  },
  {
   "cell_type": "code",
   "execution_count": 13,
   "metadata": {},
   "outputs": [
    {
     "data": {
      "text/plain": [
       "0    [grew, up, watching, and, loving, the, thunder...\n",
       "1    [when, put, this, movie, in, my, dvd, player, ...\n",
       "2    [why, do, people, who, do, not, know, what, pa...\n",
       "3    [even, though, have, great, interest, in, bibl...\n",
       "4    [im, die, hard, dads, army, fan, and, nothing,...\n",
       "5    [terrible, movie, as, everyone, has, said, wha...\n",
       "6    [finally, watched, this, shocking, movie, last...\n",
       "7    [caught, this, film, on, azn, on, cable, it, s...\n",
       "8    [it, may, be, the, remake, of, autumn, tale, a...\n",
       "9    [my, super, ex, girlfriend, turned, out, to, b...\n",
       "Name: text, dtype: object"
      ]
     },
     "execution_count": 13,
     "metadata": {},
     "output_type": "execute_result"
    }
   ],
   "source": [
    "df_text=df.text.apply(gensim.utils.simple_preprocess)\n",
    "df_text.head(10)"
   ]
  },
  {
   "cell_type": "code",
   "execution_count": 14,
   "metadata": {},
   "outputs": [
    {
     "data": {
      "text/plain": [
       "['grew',\n",
       " 'up',\n",
       " 'watching',\n",
       " 'and',\n",
       " 'loving',\n",
       " 'the',\n",
       " 'thunderbirds',\n",
       " 'all',\n",
       " 'my',\n",
       " 'mates',\n",
       " 'at',\n",
       " 'school',\n",
       " 'watched',\n",
       " 'we',\n",
       " 'played',\n",
       " 'thunderbirds',\n",
       " 'before',\n",
       " 'school',\n",
       " 'during',\n",
       " 'lunch',\n",
       " 'and',\n",
       " 'after',\n",
       " 'school',\n",
       " 'we',\n",
       " 'all',\n",
       " 'wanted',\n",
       " 'to',\n",
       " 'be',\n",
       " 'virgil',\n",
       " 'or',\n",
       " 'scott',\n",
       " 'no',\n",
       " 'one',\n",
       " 'wanted',\n",
       " 'to',\n",
       " 'be',\n",
       " 'alan',\n",
       " 'counting',\n",
       " 'down',\n",
       " 'from',\n",
       " 'became',\n",
       " 'an',\n",
       " 'art',\n",
       " 'form',\n",
       " 'took',\n",
       " 'my',\n",
       " 'children',\n",
       " 'to',\n",
       " 'see',\n",
       " 'the',\n",
       " 'movie',\n",
       " 'hoping',\n",
       " 'they',\n",
       " 'would',\n",
       " 'get',\n",
       " 'glimpse',\n",
       " 'of',\n",
       " 'what',\n",
       " 'loved',\n",
       " 'as',\n",
       " 'child',\n",
       " 'how',\n",
       " 'bitterly',\n",
       " 'disappointing',\n",
       " 'the',\n",
       " 'only',\n",
       " 'high',\n",
       " 'point',\n",
       " 'was',\n",
       " 'the',\n",
       " 'snappy',\n",
       " 'theme',\n",
       " 'tune',\n",
       " 'not',\n",
       " 'that',\n",
       " 'it',\n",
       " 'could',\n",
       " 'compare',\n",
       " 'with',\n",
       " 'the',\n",
       " 'original',\n",
       " 'score',\n",
       " 'of',\n",
       " 'the',\n",
       " 'thunderbirds',\n",
       " 'thankfully',\n",
       " 'early',\n",
       " 'saturday',\n",
       " 'mornings',\n",
       " 'one',\n",
       " 'television',\n",
       " 'channel',\n",
       " 'still',\n",
       " 'plays',\n",
       " 'reruns',\n",
       " 'of',\n",
       " 'the',\n",
       " 'series',\n",
       " 'gerry',\n",
       " 'anderson',\n",
       " 'and',\n",
       " 'his',\n",
       " 'wife',\n",
       " 'created',\n",
       " 'jonatha',\n",
       " 'frakes',\n",
       " 'should',\n",
       " 'hand',\n",
       " 'in',\n",
       " 'his',\n",
       " 'directors',\n",
       " 'chair',\n",
       " 'his',\n",
       " 'version',\n",
       " 'was',\n",
       " 'completely',\n",
       " 'hopeless',\n",
       " 'waste',\n",
       " 'of',\n",
       " 'film',\n",
       " 'utter',\n",
       " 'rubbish',\n",
       " 'cgi',\n",
       " 'remake',\n",
       " 'may',\n",
       " 'be',\n",
       " 'acceptable',\n",
       " 'but',\n",
       " 'replacing',\n",
       " 'marionettes',\n",
       " 'with',\n",
       " 'homo',\n",
       " 'sapiens',\n",
       " 'subsp',\n",
       " 'sapiens',\n",
       " 'was',\n",
       " 'huge',\n",
       " 'error',\n",
       " 'of',\n",
       " 'judgment']"
      ]
     },
     "execution_count": 14,
     "metadata": {},
     "output_type": "execute_result"
    }
   ],
   "source": [
    "df_text.iloc[0]"
   ]
  },
  {
   "cell_type": "code",
   "execution_count": 15,
   "metadata": {},
   "outputs": [
    {
     "name": "stdout",
     "output_type": "stream",
     "text": [
      "\n",
      "re is:  ['grew', 'up', 'watching', 'and', 'loving', 'the', 'thunderbirds', 'all', 'my', 'mates', 'at', 'school', 'watched', 'we', 'played', 'thunderbirds', 'before', 'school', 'during', 'lunch', 'and', 'after', 'school', 'we', 'all', 'wanted', 'to', 'be', 'virgil', 'or', 'scott', 'no', 'one', 'wanted', 'to', 'be', 'alan', 'counting', 'down', 'from', 'became', 'an', 'art', 'form', 'took', 'my', 'children', 'to', 'see', 'the', 'movie', 'hoping', 'they', 'would', 'get', 'glimpse', 'of', 'what', 'loved', 'as', 'child', 'how', 'bitterly', 'disappointing', 'the', 'only', 'high', 'point', 'was', 'the', 'snappy', 'theme', 'tune', 'not', 'that', 'it', 'could', 'compare', 'with', 'the', 'original', 'score', 'of', 'the', 'thunderbirds', 'thankfully', 'early', 'saturday', 'mornings', 'one', 'television', 'channel', 'still', 'plays', 'reruns', 'of', 'the', 'series', 'gerry', 'anderson', 'and', 'his', 'wife', 'created', 'jonatha', 'frakes', 'should', 'hand', 'in', 'his', 'directors', 'chair', 'his', 'version', 'was', 'completely', 'hopeless', 'waste', 'of', 'film', 'utter', 'rubbish', 'cgi', 'remake', 'may', 'be', 'acceptable', 'but', 'replacing', 'marionettes', 'with', 'homo', 'sapiens', 'subsp', 'sapiens', 'was', 'huge', 'error', 'of', 'judgment']\n",
      "\n",
      "rev is:  grew up watching and loving the thunderbirds all my mates at school watched we played thunderbirds before school during lunch and after school we all wanted to be virgil or scott no one wanted to be alan counting down from became an art form took my children to see the movie hoping they would get glimpse of what loved as child how bitterly disappointing the only high point was the snappy theme tune not that it could compare with the original score of the thunderbirds thankfully early saturday mornings one television channel still plays reruns of the series gerry anderson and his wife created jonatha frakes should hand in his directors chair his version was completely hopeless waste of film utter rubbish cgi remake may be acceptable but replacing marionettes with homo sapiens subsp sapiens was huge error of judgment\n"
     ]
    }
   ],
   "source": [
    "rev=[0]*df.shape[0]\n",
    "for i in range(0,df.shape[0]):\n",
    "    str=\" \"\n",
    "    re=df_text[i]\n",
    "    rev[i]=str.join(re)\n",
    "print('\\nre is: ',df_text[0])\n",
    "print('\\nrev is: ',rev[0])\n"
   ]
  },
  {
   "cell_type": "code",
   "execution_count": 17,
   "metadata": {},
   "outputs": [
    {
     "name": "stdout",
     "output_type": "stream",
     "text": [
      "  (0, 37008)\t1\n",
      "  (0, 93228)\t1\n",
      "  (0, 95848)\t1\n",
      "  (0, 2919)\t3\n",
      "  (0, 51898)\t1\n",
      "  (0, 87880)\t7\n",
      "  (0, 88430)\t3\n",
      "  (0, 2102)\t2\n",
      "  (0, 58852)\t2\n",
      "  (0, 54324)\t1\n",
      "  (0, 4913)\t1\n",
      "  (0, 76772)\t3\n",
      "  (0, 95841)\t1\n",
      "  (0, 95992)\t2\n",
      "  (0, 66616)\t1\n",
      "  (0, 7441)\t1\n",
      "  (0, 26090)\t1\n",
      "  (0, 52179)\t1\n",
      "  (0, 1363)\t1\n",
      "  (0, 95639)\t2\n",
      "  (0, 88923)\t3\n",
      "  (0, 7101)\t3\n",
      "  (0, 94794)\t1\n",
      "  (0, 62338)\t1\n",
      "  (0, 77006)\t1\n",
      "  :\t:\n",
      "  (0, 79183)\t1\n",
      "  (0, 38390)\t1\n",
      "  (0, 42862)\t1\n",
      "  (0, 23585)\t1\n",
      "  (0, 14131)\t1\n",
      "  (0, 94321)\t1\n",
      "  (0, 17221)\t1\n",
      "  (0, 41027)\t1\n",
      "  (0, 95812)\t1\n",
      "  (0, 31389)\t1\n",
      "  (0, 93546)\t1\n",
      "  (0, 74899)\t1\n",
      "  (0, 14072)\t1\n",
      "  (0, 72338)\t1\n",
      "  (0, 54534)\t1\n",
      "  (0, 443)\t1\n",
      "  (0, 11980)\t1\n",
      "  (0, 72659)\t1\n",
      "  (0, 53833)\t1\n",
      "  (0, 40831)\t1\n",
      "  (0, 75964)\t2\n",
      "  (0, 84717)\t1\n",
      "  (0, 41517)\t1\n",
      "  (0, 28532)\t1\n",
      "  (0, 46347)\t1\n"
     ]
    }
   ],
   "source": [
    "cv=CountVectorizer()\n",
    "text=cv.fit_transform(rev)\n",
    "print(text[0])"
   ]
  },
  {
   "cell_type": "code",
   "execution_count": 18,
   "metadata": {},
   "outputs": [],
   "source": [
    "X_train,X_test,y_train,y_test=train_test_split(text,df.label,test_size=0.15)"
   ]
  },
  {
   "cell_type": "code",
   "execution_count": 19,
   "metadata": {},
   "outputs": [
    {
     "name": "stdout",
     "output_type": "stream",
     "text": [
      "Test Set Accuracy score: 89.09%\n"
     ]
    }
   ],
   "source": [
    "lg=LogisticRegression(solver='liblinear').fit(X_train, y_train)\n",
    "y_pred=lg.predict(X_test)\n",
    "acc_lg=round(accuracy_score(y_pred, y_test)*100, 2)\n",
    "print(f'Test Set Accuracy score: {acc_lg}%')"
   ]
  },
  {
   "cell_type": "code",
   "execution_count": 20,
   "metadata": {},
   "outputs": [
    {
     "name": "stdout",
     "output_type": "stream",
     "text": [
      "Train set Accuracy score: 99.68%\n"
     ]
    }
   ],
   "source": [
    "x_pred=lg.predict(X_train)\n",
    "acc_lg=round(accuracy_score(x_pred, y_train)*100, 2)\n",
    "print(f'Train set Accuracy score: {acc_lg}%')"
   ]
  },
  {
   "cell_type": "code",
   "execution_count": null,
   "metadata": {},
   "outputs": [],
   "source": []
  },
  {
   "cell_type": "code",
   "execution_count": null,
   "metadata": {},
   "outputs": [],
   "source": []
  },
  {
   "cell_type": "code",
   "execution_count": 48,
   "metadata": {},
   "outputs": [],
   "source": [
    "text=['This movie is so good','This movie is so bad']\n",
    "df_my_text = pd.Series(text)\n"
   ]
  },
  {
   "cell_type": "code",
   "execution_count": 49,
   "metadata": {},
   "outputs": [
    {
     "data": {
      "text/plain": [
       "'This movie is so good'"
      ]
     },
     "execution_count": 49,
     "metadata": {},
     "output_type": "execute_result"
    }
   ],
   "source": [
    "df_my_text[0]"
   ]
  },
  {
   "cell_type": "code",
   "execution_count": 50,
   "metadata": {},
   "outputs": [],
   "source": [
    "my_text=df_my_text.apply(gensim.utils.simple_preprocess)\n"
   ]
  },
  {
   "cell_type": "code",
   "execution_count": 51,
   "metadata": {},
   "outputs": [
    {
     "data": {
      "text/plain": [
       "0    [this, movie, is, so, good]\n",
       "1     [this, movie, is, so, bad]\n",
       "dtype: object"
      ]
     },
     "execution_count": 51,
     "metadata": {},
     "output_type": "execute_result"
    }
   ],
   "source": [
    "my_text.head()"
   ]
  },
  {
   "cell_type": "code",
   "execution_count": 52,
   "metadata": {},
   "outputs": [
    {
     "name": "stdout",
     "output_type": "stream",
     "text": [
      "\n",
      "re is:  ['this', 'movie', 'is', 'so', 'good']\n",
      "\n",
      "rev is:  this movie is so good\n",
      "\n",
      "re is:  ['this', 'movie', 'is', 'so', 'bad']\n",
      "\n",
      "rev is:  this movie is so bad\n"
     ]
    }
   ],
   "source": [
    "n_rev=[0]*df_my_text.shape[0]\n",
    "for i in range(0,df_my_text.shape[0]):\n",
    "    str=\" \"\n",
    "    n_re=my_text[i]\n",
    "    print('\\nre is: ',n_re)\n",
    "    n_rev[i]=str.join(n_re)\n",
    "    print('\\nrev is: ',n_rev[i])\n"
   ]
  },
  {
   "cell_type": "code",
   "execution_count": 53,
   "metadata": {},
   "outputs": [
    {
     "name": "stdout",
     "output_type": "stream",
     "text": [
      "  (0, 5)\t1\n",
      "  (0, 3)\t1\n",
      "  (0, 2)\t1\n",
      "  (0, 4)\t1\n",
      "  (0, 1)\t1\n",
      "  (1, 5)\t1\n",
      "  (1, 3)\t1\n",
      "  (1, 2)\t1\n",
      "  (1, 4)\t1\n",
      "  (1, 0)\t1\n"
     ]
    }
   ],
   "source": [
    "n_text=cv.fit_transform(n_rev)\n",
    "print(n_text)"
   ]
  },
  {
   "cell_type": "code",
   "execution_count": 55,
   "metadata": {},
   "outputs": [
    {
     "ename": "ValueError",
     "evalue": "X has 6 features, but LogisticRegression is expecting 99476 features as input.",
     "output_type": "error",
     "traceback": [
      "\u001b[1;31m---------------------------------------------------------------------------\u001b[0m",
      "\u001b[1;31mValueError\u001b[0m                                Traceback (most recent call last)",
      "Cell \u001b[1;32mIn [55], line 1\u001b[0m\n\u001b[1;32m----> 1\u001b[0m text_pred\u001b[39m=\u001b[39mlg\u001b[39m.\u001b[39mpredict(n_text)\n",
      "File \u001b[1;32mc:\\Users\\necme\\AppData\\Local\\Programs\\Python\\Python310\\lib\\site-packages\\sklearn\\linear_model\\_base.py:447\u001b[0m, in \u001b[0;36mLinearClassifierMixin.predict\u001b[1;34m(self, X)\u001b[0m\n\u001b[0;32m    433\u001b[0m \u001b[39mdef\u001b[39;00m \u001b[39mpredict\u001b[39m(\u001b[39mself\u001b[39m, X):\n\u001b[0;32m    434\u001b[0m     \u001b[39m\"\"\"\u001b[39;00m\n\u001b[0;32m    435\u001b[0m \u001b[39m    Predict class labels for samples in X.\u001b[39;00m\n\u001b[0;32m    436\u001b[0m \n\u001b[1;32m   (...)\u001b[0m\n\u001b[0;32m    445\u001b[0m \u001b[39m        Vector containing the class labels for each sample.\u001b[39;00m\n\u001b[0;32m    446\u001b[0m \u001b[39m    \"\"\"\u001b[39;00m\n\u001b[1;32m--> 447\u001b[0m     scores \u001b[39m=\u001b[39m \u001b[39mself\u001b[39;49m\u001b[39m.\u001b[39;49mdecision_function(X)\n\u001b[0;32m    448\u001b[0m     \u001b[39mif\u001b[39;00m \u001b[39mlen\u001b[39m(scores\u001b[39m.\u001b[39mshape) \u001b[39m==\u001b[39m \u001b[39m1\u001b[39m:\n\u001b[0;32m    449\u001b[0m         indices \u001b[39m=\u001b[39m (scores \u001b[39m>\u001b[39m \u001b[39m0\u001b[39m)\u001b[39m.\u001b[39mastype(\u001b[39mint\u001b[39m)\n",
      "File \u001b[1;32mc:\\Users\\necme\\AppData\\Local\\Programs\\Python\\Python310\\lib\\site-packages\\sklearn\\linear_model\\_base.py:429\u001b[0m, in \u001b[0;36mLinearClassifierMixin.decision_function\u001b[1;34m(self, X)\u001b[0m\n\u001b[0;32m    409\u001b[0m \u001b[39m\"\"\"\u001b[39;00m\n\u001b[0;32m    410\u001b[0m \u001b[39mPredict confidence scores for samples.\u001b[39;00m\n\u001b[0;32m    411\u001b[0m \n\u001b[1;32m   (...)\u001b[0m\n\u001b[0;32m    425\u001b[0m \u001b[39m    this class would be predicted.\u001b[39;00m\n\u001b[0;32m    426\u001b[0m \u001b[39m\"\"\"\u001b[39;00m\n\u001b[0;32m    427\u001b[0m check_is_fitted(\u001b[39mself\u001b[39m)\n\u001b[1;32m--> 429\u001b[0m X \u001b[39m=\u001b[39m \u001b[39mself\u001b[39;49m\u001b[39m.\u001b[39;49m_validate_data(X, accept_sparse\u001b[39m=\u001b[39;49m\u001b[39m\"\u001b[39;49m\u001b[39mcsr\u001b[39;49m\u001b[39m\"\u001b[39;49m, reset\u001b[39m=\u001b[39;49m\u001b[39mFalse\u001b[39;49;00m)\n\u001b[0;32m    430\u001b[0m scores \u001b[39m=\u001b[39m safe_sparse_dot(X, \u001b[39mself\u001b[39m\u001b[39m.\u001b[39mcoef_\u001b[39m.\u001b[39mT, dense_output\u001b[39m=\u001b[39m\u001b[39mTrue\u001b[39;00m) \u001b[39m+\u001b[39m \u001b[39mself\u001b[39m\u001b[39m.\u001b[39mintercept_\n\u001b[0;32m    431\u001b[0m \u001b[39mreturn\u001b[39;00m scores\u001b[39m.\u001b[39mravel() \u001b[39mif\u001b[39;00m scores\u001b[39m.\u001b[39mshape[\u001b[39m1\u001b[39m] \u001b[39m==\u001b[39m \u001b[39m1\u001b[39m \u001b[39melse\u001b[39;00m scores\n",
      "File \u001b[1;32mc:\\Users\\necme\\AppData\\Local\\Programs\\Python\\Python310\\lib\\site-packages\\sklearn\\base.py:600\u001b[0m, in \u001b[0;36mBaseEstimator._validate_data\u001b[1;34m(self, X, y, reset, validate_separately, **check_params)\u001b[0m\n\u001b[0;32m    597\u001b[0m     out \u001b[39m=\u001b[39m X, y\n\u001b[0;32m    599\u001b[0m \u001b[39mif\u001b[39;00m \u001b[39mnot\u001b[39;00m no_val_X \u001b[39mand\u001b[39;00m check_params\u001b[39m.\u001b[39mget(\u001b[39m\"\u001b[39m\u001b[39mensure_2d\u001b[39m\u001b[39m\"\u001b[39m, \u001b[39mTrue\u001b[39;00m):\n\u001b[1;32m--> 600\u001b[0m     \u001b[39mself\u001b[39;49m\u001b[39m.\u001b[39;49m_check_n_features(X, reset\u001b[39m=\u001b[39;49mreset)\n\u001b[0;32m    602\u001b[0m \u001b[39mreturn\u001b[39;00m out\n",
      "File \u001b[1;32mc:\\Users\\necme\\AppData\\Local\\Programs\\Python\\Python310\\lib\\site-packages\\sklearn\\base.py:400\u001b[0m, in \u001b[0;36mBaseEstimator._check_n_features\u001b[1;34m(self, X, reset)\u001b[0m\n\u001b[0;32m    397\u001b[0m     \u001b[39mreturn\u001b[39;00m\n\u001b[0;32m    399\u001b[0m \u001b[39mif\u001b[39;00m n_features \u001b[39m!=\u001b[39m \u001b[39mself\u001b[39m\u001b[39m.\u001b[39mn_features_in_:\n\u001b[1;32m--> 400\u001b[0m     \u001b[39mraise\u001b[39;00m \u001b[39mValueError\u001b[39;00m(\n\u001b[0;32m    401\u001b[0m         \u001b[39mf\u001b[39m\u001b[39m\"\u001b[39m\u001b[39mX has \u001b[39m\u001b[39m{\u001b[39;00mn_features\u001b[39m}\u001b[39;00m\u001b[39m features, but \u001b[39m\u001b[39m{\u001b[39;00m\u001b[39mself\u001b[39m\u001b[39m.\u001b[39m\u001b[39m__class__\u001b[39m\u001b[39m.\u001b[39m\u001b[39m__name__\u001b[39m\u001b[39m}\u001b[39;00m\u001b[39m \u001b[39m\u001b[39m\"\u001b[39m\n\u001b[0;32m    402\u001b[0m         \u001b[39mf\u001b[39m\u001b[39m\"\u001b[39m\u001b[39mis expecting \u001b[39m\u001b[39m{\u001b[39;00m\u001b[39mself\u001b[39m\u001b[39m.\u001b[39mn_features_in_\u001b[39m}\u001b[39;00m\u001b[39m features as input.\u001b[39m\u001b[39m\"\u001b[39m\n\u001b[0;32m    403\u001b[0m     )\n",
      "\u001b[1;31mValueError\u001b[0m: X has 6 features, but LogisticRegression is expecting 99476 features as input."
     ]
    }
   ],
   "source": [
    "text_pred=lg.predict(n_text)"
   ]
  },
  {
   "cell_type": "code",
   "execution_count": 58,
   "metadata": {},
   "outputs": [
    {
     "data": {
      "text/plain": [
       "0    I grew up (b. 1965) watching and loving the Th...\n",
       "1    When I put this movie in my DVD player, and sa...\n",
       "2    Why do people who do not know what a particula...\n",
       "3    Even though I have great interest in Biblical ...\n",
       "4    Im a die hard Dads Army fan and nothing will e...\n",
       "Name: text, dtype: object"
      ]
     },
     "execution_count": 58,
     "metadata": {},
     "output_type": "execute_result"
    }
   ],
   "source": [
    "t_cat_df = df.loc[0:5,'text']\n",
    "l_cat_df = df.loc[0:5,'label']\n",
    "t_cat_df.head()"
   ]
  },
  {
   "cell_type": "code",
   "execution_count": 59,
   "metadata": {},
   "outputs": [],
   "source": [
    "my_text=t_cat_df.apply(gensim.utils.simple_preprocess)"
   ]
  },
  {
   "cell_type": "code",
   "execution_count": 60,
   "metadata": {},
   "outputs": [
    {
     "data": {
      "text/plain": [
       "0    [grew, up, watching, and, loving, the, thunder...\n",
       "1    [when, put, this, movie, in, my, dvd, player, ...\n",
       "2    [why, do, people, who, do, not, know, what, pa...\n",
       "3    [even, though, have, great, interest, in, bibl...\n",
       "4    [im, die, hard, dads, army, fan, and, nothing,...\n",
       "Name: text, dtype: object"
      ]
     },
     "execution_count": 60,
     "metadata": {},
     "output_type": "execute_result"
    }
   ],
   "source": [
    "my_text.head()"
   ]
  },
  {
   "cell_type": "code",
   "execution_count": 61,
   "metadata": {},
   "outputs": [
    {
     "name": "stdout",
     "output_type": "stream",
     "text": [
      "\n",
      "re is:  ['grew', 'up', 'watching', 'and', 'loving', 'the', 'thunderbirds', 'all', 'my', 'mates', 'at', 'school', 'watched', 'we', 'played', 'thunderbirds', 'before', 'school', 'during', 'lunch', 'and', 'after', 'school', 'we', 'all', 'wanted', 'to', 'be', 'virgil', 'or', 'scott', 'no', 'one', 'wanted', 'to', 'be', 'alan', 'counting', 'down', 'from', 'became', 'an', 'art', 'form', 'took', 'my', 'children', 'to', 'see', 'the', 'movie', 'hoping', 'they', 'would', 'get', 'glimpse', 'of', 'what', 'loved', 'as', 'child', 'how', 'bitterly', 'disappointing', 'the', 'only', 'high', 'point', 'was', 'the', 'snappy', 'theme', 'tune', 'not', 'that', 'it', 'could', 'compare', 'with', 'the', 'original', 'score', 'of', 'the', 'thunderbirds', 'thankfully', 'early', 'saturday', 'mornings', 'one', 'television', 'channel', 'still', 'plays', 'reruns', 'of', 'the', 'series', 'gerry', 'anderson', 'and', 'his', 'wife', 'created', 'jonatha', 'frakes', 'should', 'hand', 'in', 'his', 'directors', 'chair', 'his', 'version', 'was', 'completely', 'hopeless', 'waste', 'of', 'film', 'utter', 'rubbish', 'cgi', 'remake', 'may', 'be', 'acceptable', 'but', 'replacing', 'marionettes', 'with', 'homo', 'sapiens', 'subsp', 'sapiens', 'was', 'huge', 'error', 'of', 'judgment']\n",
      "\n",
      "rev is:  grew up watching and loving the thunderbirds all my mates at school watched we played thunderbirds before school during lunch and after school we all wanted to be virgil or scott no one wanted to be alan counting down from became an art form took my children to see the movie hoping they would get glimpse of what loved as child how bitterly disappointing the only high point was the snappy theme tune not that it could compare with the original score of the thunderbirds thankfully early saturday mornings one television channel still plays reruns of the series gerry anderson and his wife created jonatha frakes should hand in his directors chair his version was completely hopeless waste of film utter rubbish cgi remake may be acceptable but replacing marionettes with homo sapiens subsp sapiens was huge error of judgment\n",
      "\n",
      "re is:  ['when', 'put', 'this', 'movie', 'in', 'my', 'dvd', 'player', 'and', 'sat', 'down', 'with', 'coke', 'and', 'some', 'chips', 'had', 'some', 'expectations', 'was', 'hoping', 'that', 'this', 'movie', 'would', 'contain', 'some', 'of', 'the', 'strong', 'points', 'of', 'the', 'first', 'movie', 'awsome', 'animation', 'good', 'flowing', 'story', 'excellent', 'voice', 'cast', 'funny', 'comedy', 'and', 'kick', 'ass', 'soundtrack', 'but', 'to', 'my', 'disappointment', 'not', 'any', 'of', 'this', 'is', 'to', 'be', 'found', 'in', 'atlantis', 'milo', 'return', 'had', 'read', 'some', 'reviews', 'first', 'might', 'not', 'have', 'been', 'so', 'let', 'down', 'the', 'following', 'paragraph', 'will', 'be', 'directed', 'to', 'those', 'who', 'have', 'seen', 'the', 'first', 'movie', 'and', 'who', 'enjoyed', 'it', 'primarily', 'for', 'the', 'points', 'mentioned', 'br', 'br', 'when', 'the', 'first', 'scene', 'appears', 'your', 'in', 'for', 'shock', 'if', 'you', 'just', 'picked', 'atlantis', 'milo', 'return', 'from', 'the', 'display', 'case', 'at', 'your', 'local', 'videoshop', 'or', 'whatever', 'and', 'had', 'the', 'expectations', 'had', 'the', 'music', 'feels', 'as', 'bad', 'imitation', 'of', 'the', 'first', 'movie', 'and', 'the', 'voice', 'cast', 'has', 'been', 'replaced', 'by', 'not', 'so', 'fitting', 'one', 'with', 'the', 'exception', 'of', 'few', 'characters', 'like', 'the', 'voice', 'of', 'sweet', 'the', 'actual', 'drawings', 'isnt', 'that', 'bad', 'but', 'the', 'animation', 'in', 'particular', 'is', 'sad', 'sight', 'the', 'storyline', 'is', 'also', 'pretty', 'weak', 'as', 'its', 'more', 'like', 'three', 'episodes', 'of', 'schooby', 'doo', 'than', 'the', 'single', 'adventurous', 'story', 'we', 'got', 'the', 'last', 'time', 'but', 'dont', 'misunderstand', 'it', 'not', 'very', 'good', 'schooby', 'doo', 'episodes', 'didnt', 'laugh', 'single', 'time', 'although', 'might', 'have', 'sniggered', 'once', 'or', 'twice', 'br', 'br', 'to', 'the', 'audience', 'who', 'haven', 'seen', 'the', 'first', 'movie', 'or', 'don', 'especially', 'care', 'for', 'similar', 'sequel', 'here', 'is', 'fast', 'review', 'of', 'this', 'movie', 'as', 'stand', 'alone', 'product', 'if', 'you', 'liked', 'schooby', 'doo', 'you', 'might', 'like', 'this', 'movie', 'if', 'you', 'didn', 'you', 'could', 'still', 'enjoy', 'this', 'movie', 'if', 'you', 'have', 'nothing', 'else', 'to', 'do', 'and', 'suspect', 'it', 'might', 'be', 'good', 'kids', 'movie', 'but', 'wouldn', 'know', 'it', 'might', 'have', 'been', 'better', 'if', 'milo', 'return', 'had', 'been', 'three', 'episode', 'series', 'on', 'cartoon', 'channel', 'or', 'on', 'breakfast', 'tv']\n",
      "\n",
      "rev is:  when put this movie in my dvd player and sat down with coke and some chips had some expectations was hoping that this movie would contain some of the strong points of the first movie awsome animation good flowing story excellent voice cast funny comedy and kick ass soundtrack but to my disappointment not any of this is to be found in atlantis milo return had read some reviews first might not have been so let down the following paragraph will be directed to those who have seen the first movie and who enjoyed it primarily for the points mentioned br br when the first scene appears your in for shock if you just picked atlantis milo return from the display case at your local videoshop or whatever and had the expectations had the music feels as bad imitation of the first movie and the voice cast has been replaced by not so fitting one with the exception of few characters like the voice of sweet the actual drawings isnt that bad but the animation in particular is sad sight the storyline is also pretty weak as its more like three episodes of schooby doo than the single adventurous story we got the last time but dont misunderstand it not very good schooby doo episodes didnt laugh single time although might have sniggered once or twice br br to the audience who haven seen the first movie or don especially care for similar sequel here is fast review of this movie as stand alone product if you liked schooby doo you might like this movie if you didn you could still enjoy this movie if you have nothing else to do and suspect it might be good kids movie but wouldn know it might have been better if milo return had been three episode series on cartoon channel or on breakfast tv\n",
      "\n",
      "re is:  ['why', 'do', 'people', 'who', 'do', 'not', 'know', 'what', 'particular', 'time', 'in', 'the', 'past', 'was', 'like', 'feel', 'the', 'need', 'to', 'try', 'to', 'define', 'that', 'time', 'for', 'others', 'replace', 'woodstock', 'with', 'the', 'civil', 'war', 'and', 'the', 'apollo', 'moon', 'landing', 'with', 'the', 'titanic', 'sinking', 'and', 'you', 've', 'got', 'as', 'realistic', 'flick', 'as', 'this', 'formulaic', 'soap', 'opera', 'populated', 'entirely', 'by', 'low', 'life', 'trash', 'is', 'this', 'what', 'kids', 'who', 'were', 'too', 'young', 'to', 'be', 'allowed', 'to', 'go', 'to', 'woodstock', 'and', 'who', 'failed', 'grade', 'school', 'composition', 'do', 'll', 'show', 'those', 'old', 'meanies', 'll', 'put', 'out', 'my', 'own', 'movie', 'and', 'prove', 'that', 'you', 'don', 'have', 'to', 'know', 'nuttin', 'about', 'your', 'topic', 'to', 'still', 'make', 'money', 'yeah', 'we', 'already', 'know', 'that', 'the', 'one', 'thing', 'watching', 'this', 'film', 'did', 'for', 'me', 'was', 'to', 'give', 'me', 'little', 'insight', 'into', 'underclass', 'thinking', 'the', 'next', 'time', 'see', 'slut', 'in', 'bar', 'who', 'looks', 'like', 'diane', 'lane', 'running', 'the', 'other', 'way', 'it', 'child', 'abuse', 'to', 'let', 'parents', 'that', 'worthless', 'raise', 'kids', 'it', 'audience', 'abuse', 'to', 'simply', 'stick', 'woodstock', 'and', 'the', 'moonlanding', 'into', 'flick', 'as', 'if', 'that', 'ipso', 'facto', 'means', 'the', 'film', 'portrays']\n",
      "\n",
      "rev is:  why do people who do not know what particular time in the past was like feel the need to try to define that time for others replace woodstock with the civil war and the apollo moon landing with the titanic sinking and you ve got as realistic flick as this formulaic soap opera populated entirely by low life trash is this what kids who were too young to be allowed to go to woodstock and who failed grade school composition do ll show those old meanies ll put out my own movie and prove that you don have to know nuttin about your topic to still make money yeah we already know that the one thing watching this film did for me was to give me little insight into underclass thinking the next time see slut in bar who looks like diane lane running the other way it child abuse to let parents that worthless raise kids it audience abuse to simply stick woodstock and the moonlanding into flick as if that ipso facto means the film portrays\n",
      "\n",
      "re is:  ['even', 'though', 'have', 'great', 'interest', 'in', 'biblical', 'movies', 'was', 'bored', 'to', 'death', 'every', 'minute', 'of', 'the', 'movie', 'everything', 'is', 'bad', 'the', 'movie', 'is', 'too', 'long', 'the', 'acting', 'is', 'most', 'of', 'the', 'time', 'joke', 'and', 'the', 'script', 'is', 'horrible', 'did', 'not', 'get', 'the', 'point', 'in', 'mixing', 'the', 'story', 'about', 'abraham', 'and', 'noah', 'together', 'so', 'if', 'you', 'value', 'your', 'time', 'and', 'sanity', 'stay', 'away', 'from', 'this', 'horror']\n",
      "\n",
      "rev is:  even though have great interest in biblical movies was bored to death every minute of the movie everything is bad the movie is too long the acting is most of the time joke and the script is horrible did not get the point in mixing the story about abraham and noah together so if you value your time and sanity stay away from this horror\n",
      "\n",
      "re is:  ['im', 'die', 'hard', 'dads', 'army', 'fan', 'and', 'nothing', 'will', 'ever', 'change', 'that', 'got', 'all', 'the', 'tapes', 'dvd', 'and', 'audiobooks', 'and', 'every', 'time', 'watch', 'listen', 'to', 'them', 'its', 'brand', 'new', 'br', 'br', 'the', 'film', 'the', 'film', 'is', 're', 'run', 'of', 'certain', 'episodes', 'man', 'and', 'the', 'hour', 'enemy', 'within', 'the', 'gates', 'battle', 'school', 'and', 'numerous', 'others', 'with', 'different', 'edge', 'introduction', 'of', 'new', 'general', 'instead', 'of', 'captain', 'square', 'was', 'brilliant', 'move', 'especially', 'when', 'he', 'wouldn', 'cash', 'the', 'cheque', 'something', 'that', 'is', 'rarely', 'done', 'now', 'br', 'br', 'it', 'follows', 'through', 'the', 'early', 'years', 'of', 'getting', 'equipment', 'and', 'uniforms', 'starting', 'up', 'and', 'training', 'all', 'in', 'all', 'its', 'great', 'film', 'for', 'boring', 'sunday', 'afternoon', 'br', 'br', 'two', 'draw', 'backs', 'one', 'is', 'the', 'germans', 'bogus', 'dodgy', 'accents', 'come', 'one', 'germans', 'cant', 'pronounced', 'the', 'letter', 'like', 'us', 'and', 'two', 'the', 'casting', 'of', 'liz', 'frazer', 'instead', 'of', 'the', 'familiar', 'janet', 'davis', 'like', 'liz', 'in', 'other', 'films', 'like', 'the', 'carry', 'ons', 'but', 'she', 'doesn', 'carry', 'it', 'correctly', 'in', 'this', 'and', 'janet', 'davis', 'would', 'have', 'been', 'the', 'better', 'choice']\n",
      "\n",
      "rev is:  im die hard dads army fan and nothing will ever change that got all the tapes dvd and audiobooks and every time watch listen to them its brand new br br the film the film is re run of certain episodes man and the hour enemy within the gates battle school and numerous others with different edge introduction of new general instead of captain square was brilliant move especially when he wouldn cash the cheque something that is rarely done now br br it follows through the early years of getting equipment and uniforms starting up and training all in all its great film for boring sunday afternoon br br two draw backs one is the germans bogus dodgy accents come one germans cant pronounced the letter like us and two the casting of liz frazer instead of the familiar janet davis like liz in other films like the carry ons but she doesn carry it correctly in this and janet davis would have been the better choice\n",
      "\n",
      "re is:  ['terrible', 'movie', 'as', 'everyone', 'has', 'said', 'what', 'made', 'me', 'laugh', 'was', 'the', 'cameo', 'appearance', 'by', 'scott', 'mcnealy', 'giving', 'an', 'award', 'to', 'one', 'of', 'the', 'murdered', 'programmers', 'in', 'front', 'of', 'wall', 'of', 'sun', 'logos', 'mcnealy', 'is', 'the', 'ceo', 'of', 'sun', 'microsystem', 'company', 'that', 'practically', 'defines', 'itself', 'by', 'its', 'hatred', 'of', 'microsoft', 'they', 'have', 'been', 'instrumental', 'in', 'filing', 'antitrust', 'complaints', 'against', 'microsoft', 'so', 'were', 'they', 'silly', 'enough', 'to', 'think', 'this', 'bad', 'movie', 'would', 'add', 'fuel', 'to', 'that', 'fire', 'br', 'br', 'there', 'no', 'public', 'record', 'see', 'of', 'sun', 'involvement', 'but', 'clearly', 'the', 'makers', 'of', 'this', 'movie', 'know', 'scott', 'mcnealy', 'an', 'interesting', 'mystery']\n",
      "\n",
      "rev is:  terrible movie as everyone has said what made me laugh was the cameo appearance by scott mcnealy giving an award to one of the murdered programmers in front of wall of sun logos mcnealy is the ceo of sun microsystem company that practically defines itself by its hatred of microsoft they have been instrumental in filing antitrust complaints against microsoft so were they silly enough to think this bad movie would add fuel to that fire br br there no public record see of sun involvement but clearly the makers of this movie know scott mcnealy an interesting mystery\n"
     ]
    }
   ],
   "source": [
    "n_rev=[0]*t_cat_df.shape[0]\n",
    "for i in range(0,t_cat_df.shape[0]):\n",
    "    str=\" \"\n",
    "    n_re=my_text[i]\n",
    "    print('\\nre is: ',n_re)\n",
    "    n_rev[i]=str.join(n_re)\n",
    "    print('\\nrev is: ',n_rev[i])"
   ]
  },
  {
   "cell_type": "code",
   "execution_count": 62,
   "metadata": {},
   "outputs": [
    {
     "name": "stdout",
     "output_type": "stream",
     "text": [
      "  (0, 187)\t1\n",
      "  (0, 433)\t1\n",
      "  (0, 450)\t1\n",
      "  (0, 20)\t3\n",
      "  (0, 251)\t1\n",
      "  (0, 403)\t7\n",
      "  (0, 416)\t3\n",
      "  (0, 13)\t2\n",
      "  (0, 284)\t2\n",
      "  (0, 259)\t1\n",
      "  (0, 32)\t1\n",
      "  (0, 357)\t3\n",
      "  (0, 449)\t1\n",
      "  (0, 452)\t2\n",
      "  (0, 316)\t1\n",
      "  (0, 46)\t1\n",
      "  (0, 122)\t1\n",
      "  (0, 253)\t1\n",
      "  (0, 9)\t1\n",
      "  (0, 444)\t2\n",
      "  (0, 419)\t3\n",
      "  (0, 43)\t3\n",
      "  (0, 441)\t1\n",
      "  (0, 304)\t1\n",
      "  (0, 359)\t1\n",
      "  :\t:\n",
      "  (5, 86)\t1\n",
      "  (5, 323)\t1\n",
      "  (5, 100)\t1\n",
      "  (5, 224)\t1\n",
      "  (5, 192)\t1\n",
      "  (5, 266)\t2\n",
      "  (5, 213)\t1\n",
      "  (5, 153)\t1\n",
      "  (5, 23)\t1\n",
      "  (5, 88)\t1\n",
      "  (5, 11)\t1\n",
      "  (5, 370)\t1\n",
      "  (5, 130)\t1\n",
      "  (5, 409)\t1\n",
      "  (5, 7)\t1\n",
      "  (5, 171)\t1\n",
      "  (5, 156)\t1\n",
      "  (5, 406)\t1\n",
      "  (5, 330)\t1\n",
      "  (5, 337)\t1\n",
      "  (5, 218)\t1\n",
      "  (5, 82)\t1\n",
      "  (5, 256)\t1\n",
      "  (5, 215)\t1\n",
      "  (5, 285)\t1\n"
     ]
    }
   ],
   "source": [
    "n_text=cv.fit_transform(n_rev)\n",
    "print(n_text)"
   ]
  },
  {
   "cell_type": "code",
   "execution_count": 81,
   "metadata": {},
   "outputs": [
    {
     "ename": "ValueError",
     "evalue": "X has 473 features, but LogisticRegression is expecting 99476 features as input.",
     "output_type": "error",
     "traceback": [
      "\u001b[1;31m---------------------------------------------------------------------------\u001b[0m",
      "\u001b[1;31mValueError\u001b[0m                                Traceback (most recent call last)",
      "Cell \u001b[1;32mIn [81], line 2\u001b[0m\n\u001b[0;32m      1\u001b[0m X_train,X_test,y_train,y_test\u001b[39m=\u001b[39mtrain_test_split(n_text,l_cat_df,test_size\u001b[39m=\u001b[39m\u001b[39m0.5\u001b[39m)\n\u001b[1;32m----> 2\u001b[0m text_pred\u001b[39m=\u001b[39mlg\u001b[39m.\u001b[39mpredict(X_train)\n",
      "File \u001b[1;32mc:\\Users\\necme\\AppData\\Local\\Programs\\Python\\Python310\\lib\\site-packages\\sklearn\\linear_model\\_base.py:447\u001b[0m, in \u001b[0;36mLinearClassifierMixin.predict\u001b[1;34m(self, X)\u001b[0m\n\u001b[0;32m    433\u001b[0m \u001b[39mdef\u001b[39;00m \u001b[39mpredict\u001b[39m(\u001b[39mself\u001b[39m, X):\n\u001b[0;32m    434\u001b[0m     \u001b[39m\"\"\"\u001b[39;00m\n\u001b[0;32m    435\u001b[0m \u001b[39m    Predict class labels for samples in X.\u001b[39;00m\n\u001b[0;32m    436\u001b[0m \n\u001b[1;32m   (...)\u001b[0m\n\u001b[0;32m    445\u001b[0m \u001b[39m        Vector containing the class labels for each sample.\u001b[39;00m\n\u001b[0;32m    446\u001b[0m \u001b[39m    \"\"\"\u001b[39;00m\n\u001b[1;32m--> 447\u001b[0m     scores \u001b[39m=\u001b[39m \u001b[39mself\u001b[39;49m\u001b[39m.\u001b[39;49mdecision_function(X)\n\u001b[0;32m    448\u001b[0m     \u001b[39mif\u001b[39;00m \u001b[39mlen\u001b[39m(scores\u001b[39m.\u001b[39mshape) \u001b[39m==\u001b[39m \u001b[39m1\u001b[39m:\n\u001b[0;32m    449\u001b[0m         indices \u001b[39m=\u001b[39m (scores \u001b[39m>\u001b[39m \u001b[39m0\u001b[39m)\u001b[39m.\u001b[39mastype(\u001b[39mint\u001b[39m)\n",
      "File \u001b[1;32mc:\\Users\\necme\\AppData\\Local\\Programs\\Python\\Python310\\lib\\site-packages\\sklearn\\linear_model\\_base.py:429\u001b[0m, in \u001b[0;36mLinearClassifierMixin.decision_function\u001b[1;34m(self, X)\u001b[0m\n\u001b[0;32m    409\u001b[0m \u001b[39m\"\"\"\u001b[39;00m\n\u001b[0;32m    410\u001b[0m \u001b[39mPredict confidence scores for samples.\u001b[39;00m\n\u001b[0;32m    411\u001b[0m \n\u001b[1;32m   (...)\u001b[0m\n\u001b[0;32m    425\u001b[0m \u001b[39m    this class would be predicted.\u001b[39;00m\n\u001b[0;32m    426\u001b[0m \u001b[39m\"\"\"\u001b[39;00m\n\u001b[0;32m    427\u001b[0m check_is_fitted(\u001b[39mself\u001b[39m)\n\u001b[1;32m--> 429\u001b[0m X \u001b[39m=\u001b[39m \u001b[39mself\u001b[39;49m\u001b[39m.\u001b[39;49m_validate_data(X, accept_sparse\u001b[39m=\u001b[39;49m\u001b[39m\"\u001b[39;49m\u001b[39mcsr\u001b[39;49m\u001b[39m\"\u001b[39;49m, reset\u001b[39m=\u001b[39;49m\u001b[39mFalse\u001b[39;49;00m)\n\u001b[0;32m    430\u001b[0m scores \u001b[39m=\u001b[39m safe_sparse_dot(X, \u001b[39mself\u001b[39m\u001b[39m.\u001b[39mcoef_\u001b[39m.\u001b[39mT, dense_output\u001b[39m=\u001b[39m\u001b[39mTrue\u001b[39;00m) \u001b[39m+\u001b[39m \u001b[39mself\u001b[39m\u001b[39m.\u001b[39mintercept_\n\u001b[0;32m    431\u001b[0m \u001b[39mreturn\u001b[39;00m scores\u001b[39m.\u001b[39mravel() \u001b[39mif\u001b[39;00m scores\u001b[39m.\u001b[39mshape[\u001b[39m1\u001b[39m] \u001b[39m==\u001b[39m \u001b[39m1\u001b[39m \u001b[39melse\u001b[39;00m scores\n",
      "File \u001b[1;32mc:\\Users\\necme\\AppData\\Local\\Programs\\Python\\Python310\\lib\\site-packages\\sklearn\\base.py:600\u001b[0m, in \u001b[0;36mBaseEstimator._validate_data\u001b[1;34m(self, X, y, reset, validate_separately, **check_params)\u001b[0m\n\u001b[0;32m    597\u001b[0m     out \u001b[39m=\u001b[39m X, y\n\u001b[0;32m    599\u001b[0m \u001b[39mif\u001b[39;00m \u001b[39mnot\u001b[39;00m no_val_X \u001b[39mand\u001b[39;00m check_params\u001b[39m.\u001b[39mget(\u001b[39m\"\u001b[39m\u001b[39mensure_2d\u001b[39m\u001b[39m\"\u001b[39m, \u001b[39mTrue\u001b[39;00m):\n\u001b[1;32m--> 600\u001b[0m     \u001b[39mself\u001b[39;49m\u001b[39m.\u001b[39;49m_check_n_features(X, reset\u001b[39m=\u001b[39;49mreset)\n\u001b[0;32m    602\u001b[0m \u001b[39mreturn\u001b[39;00m out\n",
      "File \u001b[1;32mc:\\Users\\necme\\AppData\\Local\\Programs\\Python\\Python310\\lib\\site-packages\\sklearn\\base.py:400\u001b[0m, in \u001b[0;36mBaseEstimator._check_n_features\u001b[1;34m(self, X, reset)\u001b[0m\n\u001b[0;32m    397\u001b[0m     \u001b[39mreturn\u001b[39;00m\n\u001b[0;32m    399\u001b[0m \u001b[39mif\u001b[39;00m n_features \u001b[39m!=\u001b[39m \u001b[39mself\u001b[39m\u001b[39m.\u001b[39mn_features_in_:\n\u001b[1;32m--> 400\u001b[0m     \u001b[39mraise\u001b[39;00m \u001b[39mValueError\u001b[39;00m(\n\u001b[0;32m    401\u001b[0m         \u001b[39mf\u001b[39m\u001b[39m\"\u001b[39m\u001b[39mX has \u001b[39m\u001b[39m{\u001b[39;00mn_features\u001b[39m}\u001b[39;00m\u001b[39m features, but \u001b[39m\u001b[39m{\u001b[39;00m\u001b[39mself\u001b[39m\u001b[39m.\u001b[39m\u001b[39m__class__\u001b[39m\u001b[39m.\u001b[39m\u001b[39m__name__\u001b[39m\u001b[39m}\u001b[39;00m\u001b[39m \u001b[39m\u001b[39m\"\u001b[39m\n\u001b[0;32m    402\u001b[0m         \u001b[39mf\u001b[39m\u001b[39m\"\u001b[39m\u001b[39mis expecting \u001b[39m\u001b[39m{\u001b[39;00m\u001b[39mself\u001b[39m\u001b[39m.\u001b[39mn_features_in_\u001b[39m}\u001b[39;00m\u001b[39m features as input.\u001b[39m\u001b[39m\"\u001b[39m\n\u001b[0;32m    403\u001b[0m     )\n",
      "\u001b[1;31mValueError\u001b[0m: X has 473 features, but LogisticRegression is expecting 99476 features as input."
     ]
    }
   ],
   "source": [
    "X_train,X_test,y_train,y_test=train_test_split(n_text,l_cat_df,test_size=0.5)\n",
    "text_pred=lg.predict(X_train)"
   ]
  },
  {
   "cell_type": "code",
   "execution_count": null,
   "metadata": {},
   "outputs": [],
   "source": []
  }
 ],
 "metadata": {
  "kernelspec": {
   "display_name": "Python 3",
   "language": "python",
   "name": "python3"
  },
  "language_info": {
   "codemirror_mode": {
    "name": "ipython",
    "version": 3
   },
   "file_extension": ".py",
   "mimetype": "text/x-python",
   "name": "python",
   "nbconvert_exporter": "python",
   "pygments_lexer": "ipython3",
   "version": "3.9.12"
  },
  "orig_nbformat": 4,
  "vscode": {
   "interpreter": {
    "hash": "55112f57a8570bdf5f391b79fc0caed42d28da96e3ee50ae565d0577f4712918"
   }
  }
 },
 "nbformat": 4,
 "nbformat_minor": 2
}
